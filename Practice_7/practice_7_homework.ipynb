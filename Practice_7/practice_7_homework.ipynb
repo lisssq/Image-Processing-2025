{
 "cells": [
  {
   "cell_type": "code",
   "execution_count": 69,
   "id": "95bf1d7a",
   "metadata": {},
   "outputs": [],
   "source": [
    "import numpy as np\n",
    "import cv2\n",
    "from collections import Counter\n",
    "import os"
   ]
  },
  {
   "cell_type": "markdown",
   "id": "ec9ff2ad",
   "metadata": {},
   "source": [
    "# 1. Сохранение изображения в виде текстового файла.\n"
   ]
  },
  {
   "cell_type": "code",
   "execution_count": 70,
   "id": "baeaf066",
   "metadata": {},
   "outputs": [],
   "source": [
    "img_path = 'sar_1_gray.jpg'\n",
    "# img_path = 'sar_1_gray_mini_copy.jpg'\n",
    "img = cv2.imread(img_path, cv2.IMREAD_GRAYSCALE)\n",
    "\n",
    "np.savetxt('pixel_image.txt', img, fmt='%d')\n",
    "pixel_storage_size = os.path.getsize('pixel_image.txt')"
   ]
  },
  {
   "cell_type": "markdown",
   "id": "2980b538",
   "metadata": {},
   "source": [
    "# 2. Вейвлет-преобразования Хаара\n"
   ]
  },
  {
   "cell_type": "code",
   "execution_count": 71,
   "id": "e2831805",
   "metadata": {},
   "outputs": [],
   "source": [
    "def haar_preobr(image):\n",
    "    rows, cols = image.shape\n",
    "    image_float = image.astype(np.float64)\n",
    "    row_transform = np.zeros_like(image_float)\n",
    "    \n",
    "    for i in range(rows):\n",
    "        for j in range(0, cols - 1, 2):\n",
    "            row_transform[i, j // 2] = (image_float[i, j] + image_float[i, j + 1]) / 2\n",
    "            row_transform[i, (j // 2) + cols // 2] = (image_float[i, j] - image_float[i, j + 1]) / 2\n",
    "    \n",
    "    result = np.zeros_like(row_transform)\n",
    "    for j in range(cols):\n",
    "        for i in range(0, rows - 1, 2):\n",
    "            result[i // 2, j] = (row_transform[i, j] + row_transform[i + 1, j]) / 2\n",
    "            result[(i // 2) + rows // 2, j] = (row_transform[i, j] - row_transform[i + 1, j]) / 2\n",
    "    \n",
    "    LL = result[:rows // 2, :cols // 2]  \n",
    "    LH = result[:rows // 2, cols // 2:]  \n",
    "    HL = result[rows // 2:, :cols // 2] \n",
    "    HH = result[rows // 2:, cols // 2:]\n",
    "    return LL, LH, HL, HH\n",
    "\n",
    "LL, LH, HL, HH = haar_preobr(img)\n"
   ]
  },
  {
   "cell_type": "markdown",
   "id": "c27e02a2",
   "metadata": {},
   "source": [
    "# 3. Квантование высокочастотных компонент\n"
   ]
  },
  {
   "cell_type": "code",
   "execution_count": 72,
   "id": "ecc55836",
   "metadata": {},
   "outputs": [],
   "source": [
    "def quant(coeffs, n_quants):\n",
    "    min_val = np.min(coeffs)\n",
    "    max_val = np.max(coeffs)\n",
    "    step = (max_val - min_val) / n_quants\n",
    "    quantized = np.round((coeffs - min_val) / step).astype(int)\n",
    "    return quantized\n",
    "\n",
    "LH_q = quant(LH, 4)\n",
    "HL_q = quant(HL, 4)\n",
    "HH_q = quant(HH, 4)"
   ]
  },
  {
   "cell_type": "markdown",
   "id": "74a109a4",
   "metadata": {},
   "source": [
    "# 4. Сохраните получившийся массив значений в текстовый файл"
   ]
  },
  {
   "cell_type": "code",
   "execution_count": 73,
   "id": "45ec052e",
   "metadata": {},
   "outputs": [],
   "source": [
    "def run_length_encode(data):\n",
    "    encoded = []\n",
    "    for value, count in Counter(data.flatten()).items():\n",
    "        encoded.append((value, count))\n",
    "    return encoded\n",
    "\n",
    "LH_rle = run_length_encode(LH_q)\n",
    "HL_rle = run_length_encode(HL_q)\n",
    "HH_rle = run_length_encode(HH_q)\n",
    "\n",
    "with open('haar_image.txt', 'w') as f:\n",
    "    # сохраняем LL\n",
    "    np.savetxt(f, LL, fmt='%d')\n",
    "    # сохраняем LH\n",
    "    f.write(\"LH:\\n\")\n",
    "    for value, count in LH_rle:\n",
    "        f.write(f\"{value} {count}\\n\")\n",
    "    # сохраняем HL\n",
    "    f.write(\"HL:\\n\")\n",
    "    for value, count in HL_rle:\n",
    "        f.write(f\"{value} {count}\\n\")\n",
    "    # сохраняем HH\n",
    "    f.write(\"HH:\\n\")\n",
    "    for value, count in HH_rle:\n",
    "        f.write(f\"{value} {count}\\n\")\n",
    "\n",
    "haar_storage_size = os.path.getsize('haar_image.txt')"
   ]
  },
  {
   "cell_type": "markdown",
   "id": "0230fcfb",
   "metadata": {},
   "source": [
    "# 5. Сравните объем памяти исходного и сжатого изображения"
   ]
  },
  {
   "cell_type": "code",
   "execution_count": 74,
   "id": "2a2c7d8d",
   "metadata": {},
   "outputs": [
    {
     "name": "stdout",
     "output_type": "stream",
     "text": [
      "Исходный размер: 765222 байт\n",
      "Размер после сжатия:: 191111 байт\n",
      "Коэффициент сжатия: 4.00\n"
     ]
    }
   ],
   "source": [
    "print(f\"Исходный размер: {pixel_storage_size} байт\")\n",
    "print(f\"Размер после сжатия:: {haar_storage_size} байт\")\n",
    "print(f\"Коэффициент сжатия: {pixel_storage_size / haar_storage_size:.2f}\")"
   ]
  }
 ],
 "metadata": {
  "kernelspec": {
   "display_name": "Python 3",
   "language": "python",
   "name": "python3"
  },
  "language_info": {
   "codemirror_mode": {
    "name": "ipython",
    "version": 3
   },
   "file_extension": ".py",
   "mimetype": "text/x-python",
   "name": "python",
   "nbconvert_exporter": "python",
   "pygments_lexer": "ipython3",
   "version": "3.12.6"
  }
 },
 "nbformat": 4,
 "nbformat_minor": 5
}
